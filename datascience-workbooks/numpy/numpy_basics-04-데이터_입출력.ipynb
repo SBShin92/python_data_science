{
 "cells": [
  {
   "cell_type": "markdown",
   "id": "3737d78451c37260",
   "metadata": {},
   "source": [
    "# Numpy\n",
    "-----\n",
    "## 03. 배열 연산과 함수\n",
    "### 텍스트 파일 다루기\n",
    "- savetxt : 배열을 텍스트 파일로 저장\n",
    "- loadtxt : 텍스트 파일을 배열로 불러오기"
   ]
  },
  {
   "cell_type": "code",
   "execution_count": 16,
   "id": "9176b8ca3b49b362",
   "metadata": {
    "ExecuteTime": {
     "end_time": "2024-01-29T07:40:50.954990300Z",
     "start_time": "2024-01-29T07:40:50.735705Z"
    }
   },
   "outputs": [
    {
     "name": "stdout",
     "output_type": "stream",
     "text": [
      "[[0.27949049 0.48198269 0.04049797]\n",
      " [0.88784596 0.77012137 0.25977784]\n",
      " [0.10877646 0.17714965 0.34129503]\n",
      " [0.25415517 0.41349535 0.13658766]\n",
      " [0.16901778 0.85864572 0.95507223]]\n",
      "[[0.27949049 0.48198269 0.04049797]\n",
      " [0.88784596 0.77012137 0.25977784]\n",
      " [0.10877646 0.17714965 0.34129503]\n",
      " [0.25415517 0.41349535 0.13658766]\n",
      " [0.16901778 0.85864572 0.95507223]]\n"
     ]
    }
   ],
   "source": [
    "import numpy as np\n",
    "\n",
    "data = np.random.rand(5, 3)\n",
    "print(data)\n",
    "\n",
    "# 텍스트  파일로 저장 \n",
    "np.savetxt('mynumpydata.txt', data)    # 공백으로 구분\n",
    "# np.savetxt('mynumpydata.txt', data, delimiter=\",\")    # ,로 구분(CSV)\n",
    "# 텍스트 파일을 배열로 불러오기\n",
    "# load_data = np.loadtxt('data.txt')\n",
    "load_data = np.loadtxt('mynumpydata.txt')\n",
    "print(load_data)"
   ]
  },
  {
   "cell_type": "markdown",
   "id": "767ada7921f26a66",
   "metadata": {},
   "source": [
    "### 바이너리 파일 다루기\n",
    "- save : 배열을 바이너리 파일로 저장\n",
    "    - 넘파이 배열의 확장자는 .npy\n",
    "- load : 바이너리 파일을 배열로 불러오기\n",
    "\n",
    "※ 바이너리 형식으로 데이터를 저장하고 불러오면 데이터 손실 없이 빠르게 처리할 수 있으므로, 크기가 크고 복잡한 데이터를 다룰 때 특히 유용"
   ]
  },
  {
   "cell_type": "code",
   "execution_count": 17,
   "id": "db423dbf183e6683",
   "metadata": {
    "ExecuteTime": {
     "end_time": "2024-01-29T07:44:29.412192Z",
     "start_time": "2024-01-29T07:44:29.378937500Z"
    }
   },
   "outputs": [
    {
     "name": "stdout",
     "output_type": "stream",
     "text": [
      "data :\n",
      " [[0.2595408  0.73319329 0.76825673]\n",
      " [0.4441187  0.42087026 0.80538645]\n",
      " [0.81237511 0.64159739 0.69148451]\n",
      " [0.37242571 0.05362045 0.45098614]\n",
      " [0.94354716 0.7438838  0.80356475]]\n",
      "load_data :\n",
      " [[0.2595408  0.73319329 0.76825673]\n",
      " [0.4441187  0.42087026 0.80538645]\n",
      " [0.81237511 0.64159739 0.69148451]\n",
      " [0.37242571 0.05362045 0.45098614]\n",
      " [0.94354716 0.7438838  0.80356475]]\n"
     ]
    }
   ],
   "source": [
    "import numpy as np\n",
    "import os\n",
    "# 가상의 데이터 생성\n",
    "data = np.random.rand(5, 3)\n",
    "print(\"data :\\n\", data)\n",
    "# 데이터를 바이너리 형식으로 저장\n",
    "# if not os.path.exists('../generated'):\n",
    "#     os.makedirs('../generated')\n",
    "np.save('mybindata', data)\n",
    "\n",
    "load_data = np.load('mybindata.npy')\n",
    "print(\"load_data :\\n\", load_data)"
   ]
  }
 ],
 "metadata": {
  "kernelspec": {
   "display_name": "Python 3 (ipykernel)",
   "language": "python",
   "name": "python3"
  },
  "language_info": {
   "codemirror_mode": {
    "name": "ipython",
    "version": 3
   },
   "file_extension": ".py",
   "mimetype": "text/x-python",
   "name": "python",
   "nbconvert_exporter": "python",
   "pygments_lexer": "ipython3",
   "version": "3.10.9"
  }
 },
 "nbformat": 4,
 "nbformat_minor": 5
}
