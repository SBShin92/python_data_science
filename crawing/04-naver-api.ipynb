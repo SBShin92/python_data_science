{
 "cells": [
  {
   "cell_type": "code",
   "execution_count": 1,
   "id": "185aa810",
   "metadata": {},
   "outputs": [],
   "source": [
    "from urllib.request import urlopen\n",
    "from urllib.parse import quote\n",
    "import urllib.request"
   ]
  },
  {
   "cell_type": "code",
   "execution_count": 2,
   "id": "bf930865",
   "metadata": {},
   "outputs": [],
   "source": [
    "client_id = \"jLYYyqX5033xg9fyMAPk\"\n",
    "client_pw = \"BbuJIiJnyL\""
   ]
  },
  {
   "cell_type": "code",
   "execution_count": 3,
   "id": "937365ef",
   "metadata": {},
   "outputs": [
    {
     "name": "stdout",
     "output_type": "stream",
     "text": [
      "Enter ur kwd: AI\n"
     ]
    }
   ],
   "source": [
    "keyword = input(\"Enter ur kwd: \")\n",
    "enc_text = quote(keyword)"
   ]
  },
  {
   "cell_type": "code",
   "execution_count": 14,
   "id": "7f62b162",
   "metadata": {},
   "outputs": [
    {
     "data": {
      "text/plain": [
       "'https://openapi.naver.com/v1/search/news.json?query=AI'"
      ]
     },
     "execution_count": 14,
     "metadata": {},
     "output_type": "execute_result"
    }
   ],
   "source": [
    "url = \"https://openapi.naver.com/v1/search/news.json?query=\" + enc_text\n",
    "url"
   ]
  },
  {
   "cell_type": "code",
   "execution_count": 15,
   "id": "672ab1fe",
   "metadata": {
    "scrolled": false
   },
   "outputs": [],
   "source": [
    "request = urllib.request.Request(url)\n",
    "request.add_header(\"X-Naver-Client-Id\",client_id)\n",
    "request.add_header(\"X-Naver-Client-Secret\",client_pw)"
   ]
  },
  {
   "cell_type": "code",
   "execution_count": 19,
   "id": "0a7d5567",
   "metadata": {},
   "outputs": [],
   "source": [
    "response = urllib.request.urlopen(request)\n",
    "rescode = response.getcode()"
   ]
  },
  {
   "cell_type": "code",
   "execution_count": 20,
   "id": "1caf2d86",
   "metadata": {
    "scrolled": true
   },
   "outputs": [
    {
     "name": "stdout",
     "output_type": "stream",
     "text": [
      "{\n",
      "\t\"lastBuildDate\":\"Mon, 02 Sep 2024 12:03:18 +0900\",\n",
      "\t\"total\":3362151,\n",
      "\t\"start\":1,\n",
      "\t\"display\":10,\n",
      "\t\"items\":[\n",
      "\t\t{\n",
      "\t\t\t\"title\":\"삼성전자-포스코와 공동개발 재활용 소재, 친환경성 인정받아\",\n",
      "\t\t\t\"originallink\":\"http:\\/\\/www.greenpostkorea.co.kr\\/news\\/articleView.html?idxno=220567\",\n",
      "\t\t\t\"link\":\"http:\\/\\/www.greenpostkorea.co.kr\\/news\\/articleView.html?idxno=220567\",\n",
      "\t\t\t\"description\":\"대표적으로 올해 첫 선을 보인 올인원 세탁건조기 '비스포크 <b>AI<\\/b> 콤보'는 커버도어에 플라스틱의 일종인... 비스포크 <b>AI<\\/b> 콤보에 적용된 재활용 소재와 폐전자제품 회수를 위한 노력을 소개할 예정이다. 위훈 삼성전자... \",\n",
      "\t\t\t\"pubDate\":\"Mon, 02 Sep 2024 12:02:00 +0900\"\n",
      "\t\t},\n",
      "\t\t{\n",
      "\t\t\t\"title\":\"'딥페이크 사태'에 대구경북 대학가도 &quot;긴장&quot;…대응 나서\",\n",
      "\t\t\t\"originallink\":\"https:\\/\\/www.yeongnam.com\\/web\\/view.php?key=20240902010000200\",\n",
      "\t\t\t\"link\":\"https:\\/\\/www.yeongnam.com\\/web\\/view.php?key=20240902010000200\",\n",
      "\t\t\t\"description\":\"최근 일명 '딥페이크'(Deep fake·<b>AI<\\/b>로 만든 영상, 이미지, 음성 조작물) 논란이 지역 교육계를 강타(영남일보 8월 27일자 8면 등 보도)한 가운데, 대구경북 대학가도 딥페이크 관련 대응에 본격 나서고 있다. 청소년 뿐만... \",\n",
      "\t\t\t\"pubDate\":\"Mon, 02 Sep 2024 12:02:00 +0900\"\n",
      "\t\t},\n",
      "\t\t{\n",
      "\t\t\t\"title\":\"경찰, 딥페이크 방조 혐의로 텔레그램 법인 상대 내사 착수\",\n",
      "\t\t\t\"originallink\":\"https:\\/\\/www.chosun.com\\/national\\/2024\\/09\\/02\\/MA3MCD4SO5HYBLWWLOHROB3R3E\\/?utm_source=naver&utm_medium=referral&utm_campaign=naver-news\",\n",
      "\t\t\t\"link\":\"https:\\/\\/n.news.naver.com\\/mnews\\/article\\/023\\/0003856130?sid=102\",\n",
      "\t\t\t\"description\":\"경찰이 2일 딥페이크(<b>AI<\\/b>로 만든 진짜 같은 가짜 콘텐츠) 성범죄물 방조 혐의로 텔레그램 법인에 대해 내사에 착수했다. 경찰이 텔레그램 법인을 대상으로 내사를 벌이는 것은 처음이다. 내사는 의혹에 대해 정식 수사를... \",\n",
      "\t\t\t\"pubDate\":\"Mon, 02 Sep 2024 12:02:00 +0900\"\n",
      "\t\t},\n",
      "\t\t{\n",
      "\t\t\t\"title\":\"스토리, <b>AI<\\/b> 시대 창작자 권리 보호와 새로운 IP 생태계 비전 제시\",\n",
      "\t\t\t\"originallink\":\"https:\\/\\/platum.kr\\/archives\\/234040\",\n",
      "\t\t\t\"link\":\"https:\\/\\/platum.kr\\/archives\\/234040\",\n",
      "\t\t\t\"description\":\"(Story)가 <b>AI<\\/b> 시대의 창작자 권리 보호와 새로운 IP 생태계 조성에 대한 비전을 제시했다. 9월 2일 서울 성수 스페이스 S1에서 개최된 이 행사는 ‘코리아 블록체인 위크 2024(KBW 2024)’의 공식 부대행사로, <b>AI<\\/b>와... \",\n",
      "\t\t\t\"pubDate\":\"Mon, 02 Sep 2024 12:02:00 +0900\"\n",
      "\t\t},\n",
      "\t\t{\n",
      "\t\t\t\"title\":\"JW중외, 유튜브 채널 헬스피디아에 JW R&amp;D INSIGHT 신설\",\n",
      "\t\t\t\"originallink\":\"http:\\/\\/www.monews.co.kr\\/news\\/articleView.html?idxno=334455\",\n",
      "\t\t\t\"link\":\"http:\\/\\/www.monews.co.kr\\/news\\/articleView.html?idxno=334455\",\n",
      "\t\t\t\"description\":\"C&amp;C신약연구소의 연구기획팀장이 출연해 <b>AI<\\/b> 기반 자체 R&amp;D 플랫폼, 국가신약개발사업 지원 과제, STAT3 표적항암제 JW2286의 전임상 결과 등을 설명했다. 이에 앞서 방송된 'Wnt 탈모치료제 JW0061'편에서는 지난 5월 미국... \",\n",
      "\t\t\t\"pubDate\":\"Mon, 02 Sep 2024 12:02:00 +0900\"\n",
      "\t\t},\n",
      "\t\t{\n",
      "\t\t\t\"title\":\"LG전자, 에너지 고효율 생활가전으로 유럽 시장 공략\",\n",
      "\t\t\t\"originallink\":\"http:\\/\\/www.greenpostkorea.co.kr\\/news\\/articleView.html?idxno=220568\",\n",
      "\t\t\t\"link\":\"http:\\/\\/www.greenpostkorea.co.kr\\/news\\/articleView.html?idxno=220568\",\n",
      "\t\t\t\"description\":\"제품에 탑재된 <b>AI<\\/b> DD(Direct Drive)모터는 세탁물이 서로 엉키지 않도록 최적 동작으로 에너지 소비를 줄이고... <b>AI<\\/b> 건조 모드는 세탁물 종류와 습도에 맞는 건조 온도와 시간을 설정해 건조 시간과 에너지 효율을... \",\n",
      "\t\t\t\"pubDate\":\"Mon, 02 Sep 2024 12:02:00 +0900\"\n",
      "\t\t},\n",
      "\t\t{\n",
      "\t\t\t\"title\":\"성남시 '청년창업 지원' 크라우드펀딩 스타트\",\n",
      "\t\t\t\"originallink\":\"https:\\/\\/www.jeonmae.co.kr\\/news\\/articleView.html?idxno=1070898\",\n",
      "\t\t\t\"link\":\"https:\\/\\/www.jeonmae.co.kr\\/news\\/articleView.html?idxno=1070898\",\n",
      "\t\t\t\"description\":\"해당 홈페이지를 접속하면 ▲면역력 증진을 위한 건강 캔디 ▲재생솜을 사용한 반려견 방석 ▲미강(쌀겨)으로 만들어진 클렌징솝(비누) ▲인공지능(<b>AI<\\/b>)이 집필·연출하고 인간 배우가 연기하는 연극 ▲변온 술잔... \",\n",
      "\t\t\t\"pubDate\":\"Mon, 02 Sep 2024 12:02:00 +0900\"\n",
      "\t\t},\n",
      "\t\t{\n",
      "\t\t\t\"title\":\"'딥페이크 성범죄' 경찰 &quot;텔레그램 법인 입건 전 조사&quot;\",\n",
      "\t\t\t\"originallink\":\"http:\\/\\/www.edaily.co.kr\\/news\\/newspath.asp?newsid=02358326639016184\",\n",
      "\t\t\t\"link\":\"https:\\/\\/n.news.naver.com\\/mnews\\/article\\/018\\/0005826188?sid=102\",\n",
      "\t\t\t\"description\":\"딥페이크는 인공지능(<b>AI<\\/b>)으로 기존 사진·영상을 다른 사진·영상에 겹쳐 만들어 내는 합성 기술이다. 이른바 ‘겹지방’(겹지인방)이라는 불리는 텔레그램 채널에선 참가자들이 학생, 교사, 군인, 기자 등 서로 겹치는... \",\n",
      "\t\t\t\"pubDate\":\"Mon, 02 Sep 2024 12:02:00 +0900\"\n",
      "\t\t},\n",
      "\t\t{\n",
      "\t\t\t\"title\":\"삼성, 협력사 8,700억원 물품대금 조기지급 및 내수경기 활성화 지원 나...\",\n",
      "\t\t\t\"originallink\":\"http:\\/\\/www.techholic.co.kr\\/news\\/articleView.html?idxno=213829\",\n",
      "\t\t\t\"link\":\"http:\\/\\/www.techholic.co.kr\\/news\\/articleView.html?idxno=213829\",\n",
      "\t\t\t\"description\":\"작년부터는 <b>AI<\\/b>∙데이터 기술을 활용해 기존 스마트공장을 지능형 공장으로 고도화하는 '스마트공장 3.0'사업도 추진하고 있다. 삼성은 스마트공장 사업을 통해 지역 경제 활성화 대기업과 중소기업간 격차 완화 등 지역... \",\n",
      "\t\t\t\"pubDate\":\"Mon, 02 Sep 2024 12:02:00 +0900\"\n",
      "\t\t},\n",
      "\t\t{\n",
      "\t\t\t\"title\":\"CNBC &quot;BofA가 하반기에 낙관하는 유럽의 기술주는&quot;\",\n",
      "\t\t\t\"originallink\":\"https:\\/\\/news.einfomax.co.kr\\/news\\/articleView.html?idxno=4323520\",\n",
      "\t\t\t\"link\":\"https:\\/\\/news.einfomax.co.kr\\/news\\/articleView.html?idxno=4323520\",\n",
      "\t\t\t\"description\":\"BofA는 <b>AI<\\/b>가 기술 부문의 성장 전망에서 중요한 요소로 부상하고 있다고 진단했다. 많은 기업이 여전히 <b>AI<\\/b> 기술의 수익화 초기 단계에 있지만, 미래 투자의 잠재적 촉매제라는 게 BofA의 평가다. SAP는... \",\n",
      "\t\t\t\"pubDate\":\"Mon, 02 Sep 2024 12:02:00 +0900\"\n",
      "\t\t}\n",
      "\t]\n",
      "}\n"
     ]
    }
   ],
   "source": [
    "if rescode == 200:\n",
    "    response_body = response.read()\n",
    "    print(response_body.decode(\"utf-8\"))"
   ]
  }
 ],
 "metadata": {
  "kernelspec": {
   "display_name": "Python 3 (ipykernel)",
   "language": "python",
   "name": "python3"
  },
  "language_info": {
   "codemirror_mode": {
    "name": "ipython",
    "version": 3
   },
   "file_extension": ".py",
   "mimetype": "text/x-python",
   "name": "python",
   "nbconvert_exporter": "python",
   "pygments_lexer": "ipython3",
   "version": "3.10.9"
  }
 },
 "nbformat": 4,
 "nbformat_minor": 5
}
