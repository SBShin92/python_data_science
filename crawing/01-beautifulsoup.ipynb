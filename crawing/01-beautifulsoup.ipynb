{
 "cells": [
  {
   "cell_type": "code",
   "execution_count": null,
   "id": "e7142819",
   "metadata": {},
   "outputs": [],
   "source": [
    "# ./data/sample.html\n",
    "# !!pip install bs4"
   ]
  },
  {
   "cell_type": "code",
   "execution_count": 3,
   "id": "c7a674c2",
   "metadata": {},
   "outputs": [
    {
     "name": "stdout",
     "output_type": "stream",
     "text": [
      "<!DOCTYPE html>\n",
      "<html lang=\"en\">\n",
      "<head>\n",
      "    <meta charset=\"UTF-8\">\n",
      "    <meta name=\"viewport\" content=\"width=device-width, initial-scale=1.0\">\n",
      "    <title>Sample HTML Page</title>\n",
      "</head>\n",
      "<body>\n",
      "    <div id=\"header\">\n",
      "        <h1>Sample Homepage</h1>\n",
      "        <ul class=\"nav\">\n",
      "            <li>home</li>\n",
      "            <li>About</li>\n",
      "            <li>Contact</li>\n",
      "        </ul>\n",
      "    </div>\n",
      "    <div id=\"content\">\n",
      "        <h1>Content Title</h1>\n",
      "        <p>Lorem ipsum dolor sit amet, consectetur adipiscing elit. Phasellus interdum.</p>\n",
      "        <ul class=\"list\">\n",
      "            <li>Comment 1</li>\n",
      "            <li>Comment 2</li>\n",
      "            <li>Comment 3</li>\n",
      "            <li>Comment 4</li>\n",
      "        </ul>\n",
      "    </div>\n",
      "    <div id=\"footer\">\n",
      "        &copy; Bit Academy\n",
      "    </div>\n",
      "</body>\n",
      "</html>\n"
     ]
    }
   ],
   "source": [
    "# 로컬 html 읽어오기\n",
    "with open(\"./data/sample.html\", \"rt\") as f:\n",
    "    html_str = f.read()\n",
    "print(html_str)"
   ]
  },
  {
   "cell_type": "code",
   "execution_count": 4,
   "id": "882f1e7f",
   "metadata": {},
   "outputs": [
    {
     "data": {
      "text/plain": [
       "bs4.BeautifulSoup"
      ]
     },
     "execution_count": 4,
     "metadata": {},
     "output_type": "execute_result"
    }
   ],
   "source": [
    "# 텍스트 -> DOM\n",
    "from bs4 import BeautifulSoup\n",
    "soup = BeautifulSoup(html_str)\n",
    "type(soup)"
   ]
  },
  {
   "cell_type": "code",
   "execution_count": 6,
   "id": "a9918ca6",
   "metadata": {},
   "outputs": [
    {
     "name": "stdout",
     "output_type": "stream",
     "text": [
      "<!DOCTYPE html>\n",
      "<html lang=\"en\">\n",
      " <head>\n",
      "  <meta charset=\"utf-8\"/>\n",
      "  <meta content=\"width=device-width, initial-scale=1.0\" name=\"viewport\"/>\n",
      "  <title>\n",
      "   Sample HTML Page\n",
      "  </title>\n",
      " </head>\n",
      " <body>\n",
      "  <div id=\"header\">\n",
      "   <h1>\n",
      "    Sample Homepage\n",
      "   </h1>\n",
      "   <ul class=\"nav\">\n",
      "    <li>\n",
      "     home\n",
      "    </li>\n",
      "    <li>\n",
      "     About\n",
      "    </li>\n",
      "    <li>\n",
      "     Contact\n",
      "    </li>\n",
      "   </ul>\n",
      "  </div>\n",
      "  <div id=\"content\">\n",
      "   <h1>\n",
      "    Content Title\n",
      "   </h1>\n",
      "   <p>\n",
      "    Lorem ipsum dolor sit amet, consectetur adipiscing elit. Phasellus interdum.\n",
      "   </p>\n",
      "   <ul class=\"list\">\n",
      "    <li>\n",
      "     Comment 1\n",
      "    </li>\n",
      "    <li>\n",
      "     Comment 2\n",
      "    </li>\n",
      "    <li>\n",
      "     Comment 3\n",
      "    </li>\n",
      "    <li>\n",
      "     Comment 4\n",
      "    </li>\n",
      "   </ul>\n",
      "  </div>\n",
      "  <div id=\"footer\">\n",
      "   © Bit Academy\n",
      "  </div>\n",
      " </body>\n",
      "</html>\n"
     ]
    }
   ],
   "source": [
    "print(soup.prettify())"
   ]
  },
  {
   "cell_type": "code",
   "execution_count": 25,
   "id": "5b8fdc1d",
   "metadata": {},
   "outputs": [
    {
     "name": "stdout",
     "output_type": "stream",
     "text": [
      "<title>Sample HTML Page</title>\n",
      "<class 'bs4.element.Tag'>\n",
      "title\n",
      "Sample HTML Page\n"
     ]
    }
   ],
   "source": [
    "# title\n",
    "print(soup.title)\n",
    "print(type(soup.title))\n",
    "print(soup.title.name)\n",
    "print(soup.title.text)"
   ]
  },
  {
   "cell_type": "code",
   "execution_count": 39,
   "id": "775e6d73",
   "metadata": {},
   "outputs": [
    {
     "name": "stdout",
     "output_type": "stream",
     "text": [
      "<list_iterator object at 0x00000137C1E52380>\n",
      "<class 'list_iterator'>\n",
      "None <class 'bs4.element.NavigableString'>\n",
      "head <class 'bs4.element.Tag'>\n",
      "None <class 'bs4.element.NavigableString'>\n",
      "body <class 'bs4.element.Tag'>\n",
      "None <class 'bs4.element.NavigableString'>\n"
     ]
    }
   ],
   "source": [
    "# 문서 탐색\n",
    "html_tag = soup.html\n",
    "children = html_tag.children\n",
    "print(children)\n",
    "print(type(children))\n",
    "\n",
    "for child in children:\n",
    "    print(child.name, type(child))\n",
    "    \n",
    "# NavigableString? 문서 내부적으론 큰 의미 없으니 출력에서 제외해주어야 한다.\n",
    "\n"
   ]
  },
  {
   "cell_type": "code",
   "execution_count": 40,
   "id": "bdc4c607",
   "metadata": {},
   "outputs": [
    {
     "name": "stdout",
     "output_type": "stream",
     "text": [
      "True\n"
     ]
    }
   ],
   "source": [
    "# 부모 확인?\n",
    "print(soup.body.parent == soup.html)"
   ]
  },
  {
   "cell_type": "code",
   "execution_count": 42,
   "id": "e0077a1b",
   "metadata": {},
   "outputs": [
    {
     "data": {
      "text/plain": [
       "[<div id=\"header\">\n",
       " <h1>Sample Homepage</h1>\n",
       " <ul class=\"nav\">\n",
       " <li>home</li>\n",
       " <li>About</li>\n",
       " <li>Contact</li>\n",
       " </ul>\n",
       " </div>,\n",
       " <div id=\"content\">\n",
       " <h1>Content Title</h1>\n",
       " <p>Lorem ipsum dolor sit amet, consectetur adipiscing elit. Phasellus interdum.</p>\n",
       " <ul class=\"list\">\n",
       " <li>Comment 1</li>\n",
       " <li>Comment 2</li>\n",
       " <li>Comment 3</li>\n",
       " <li>Comment 4</li>\n",
       " </ul>\n",
       " </div>,\n",
       " <div id=\"footer\">\n",
       "         © Bit Academy\n",
       "     </div>]"
      ]
     },
     "execution_count": 42,
     "metadata": {},
     "output_type": "execute_result"
    }
   ],
   "source": [
    "# find\n",
    "divs = soup.html.findAll(\"div\")\n",
    "divs"
   ]
  },
  {
   "cell_type": "code",
   "execution_count": 52,
   "id": "c8029c10",
   "metadata": {},
   "outputs": [
    {
     "name": "stdout",
     "output_type": "stream",
     "text": [
      "0 \n",
      "\n",
      "1 <li>Comment 1</li>\n",
      "2 \n",
      "\n",
      "3 <li>Comment 2</li>\n",
      "4 \n",
      "\n",
      "5 <li>Comment 3</li>\n",
      "6 \n",
      "\n",
      "7 <li>Comment 4</li>\n",
      "8 \n",
      "\n"
     ]
    }
   ],
   "source": [
    "# 속성 검색\n",
    "list_ul = soup.body.find(\"ul\", {\"class\":\"list\"})\n",
    "list_ul\n",
    "for idx, li in enumerate(list_ul):\n",
    "    print(idx, li)"
   ]
  },
  {
   "cell_type": "code",
   "execution_count": 55,
   "id": "9eeebcff",
   "metadata": {},
   "outputs": [
    {
     "name": "stdout",
     "output_type": "stream",
     "text": [
      "[<li>home</li>, <li>About</li>, <li>Contact</li>, <li>Comment 1</li>, <li>Comment 2</li>, <li>Comment 3</li>, <li>Comment 4</li>]\n",
      "=============\n",
      "[<div id=\"header\">\n",
      "<h1>Sample Homepage</h1>\n",
      "<ul class=\"nav\">\n",
      "<li>home</li>\n",
      "<li>About</li>\n",
      "<li>Contact</li>\n",
      "</ul>\n",
      "</div>]\n",
      "=============\n",
      "[<ul class=\"list\">\n",
      "<li>Comment 1</li>\n",
      "<li>Comment 2</li>\n",
      "<li>Comment 3</li>\n",
      "<li>Comment 4</li>\n",
      "</ul>]\n"
     ]
    }
   ],
   "source": [
    "# CSS 셀렉터 - 중요!\n",
    "print(soup.select(\"ul>li\"))\n",
    "print(\"=============\")\n",
    "print(soup.select(\"div#header\"))\n",
    "print(\"=============\")\n",
    "print(soup.select(\"ul.list\"))"
   ]
  }
 ],
 "metadata": {
  "kernelspec": {
   "display_name": "Python 3 (ipykernel)",
   "language": "python",
   "name": "python3"
  },
  "language_info": {
   "codemirror_mode": {
    "name": "ipython",
    "version": 3
   },
   "file_extension": ".py",
   "mimetype": "text/x-python",
   "name": "python",
   "nbconvert_exporter": "python",
   "pygments_lexer": "ipython3",
   "version": "3.10.9"
  }
 },
 "nbformat": 4,
 "nbformat_minor": 5
}
