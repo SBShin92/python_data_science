{
 "cells": [
  {
   "cell_type": "markdown",
   "id": "60c8ebfa",
   "metadata": {},
   "source": [
    "# 타이틀"
   ]
  },
  {
   "cell_type": "markdown",
   "id": "a8777ec8",
   "metadata": {},
   "source": [
    "- level 1\n",
    "    - level 2\n",
    "    - level 2"
   ]
  },
  {
   "cell_type": "markdown",
   "id": "e646f624",
   "metadata": {},
   "source": [
    "*이땔릭*  \n",
    "~~취소선~~  \n",
    "**bold**\n",
    "`code`"
   ]
  },
  {
   "cell_type": "markdown",
   "id": "5a84cb19",
   "metadata": {},
   "source": [
    "### 테이블\n",
    "\n",
    "|제목|내용|설명|\n",
    "|------|---|---|\n",
    "|테스트1|테스트2|테스트3|\n",
    "|테스트1|테스트2|테스트3|\n",
    "|테스트1|테스트2|테스트3|\n"
   ]
  },
  {
   "cell_type": "markdown",
   "id": "3a444dfe",
   "metadata": {},
   "source": [
    "### 이미지\n",
    "![파이쑝](https://www.python.org/static/img/python-logo.png)"
   ]
  },
  {
   "cell_type": "code",
   "execution_count": 1,
   "id": "89c1b964",
   "metadata": {},
   "outputs": [],
   "source": [
    "a = 10 + 20"
   ]
  },
  {
   "cell_type": "code",
   "execution_count": 2,
   "id": "25fc1b81",
   "metadata": {},
   "outputs": [
    {
     "data": {
      "text/plain": [
       "30"
      ]
     },
     "execution_count": 2,
     "metadata": {},
     "output_type": "execute_result"
    }
   ],
   "source": [
    "a"
   ]
  },
  {
   "cell_type": "markdown",
   "id": "ab719fa7",
   "metadata": {},
   "source": [
    "순서?  \n",
    "kernel > Restart & Run All"
   ]
  },
  {
   "cell_type": "code",
   "execution_count": null,
   "id": "901b1631",
   "metadata": {},
   "outputs": [],
   "source": []
  }
 ],
 "metadata": {
  "kernelspec": {
   "display_name": "Python 3 (ipykernel)",
   "language": "python",
   "name": "python3"
  },
  "language_info": {
   "codemirror_mode": {
    "name": "ipython",
    "version": 3
   },
   "file_extension": ".py",
   "mimetype": "text/x-python",
   "name": "python",
   "nbconvert_exporter": "python",
   "pygments_lexer": "ipython3",
   "version": "3.10.9"
  }
 },
 "nbformat": 4,
 "nbformat_minor": 5
}
