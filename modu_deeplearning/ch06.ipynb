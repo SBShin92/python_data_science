{
 "cells": [
  {
   "cell_type": "markdown",
   "id": "14f3d9bb",
   "metadata": {},
   "source": [
    "# 6장. 로지스틱 회귀 모델: 참 거짓 판단하기"
   ]
  },
  {
   "cell_type": "markdown",
   "id": "9ebeab00",
   "metadata": {},
   "source": [
    "[<img src=\"https://raw.githubusercontent.com/taehojo/taehojo.github.io/master/assets/images/linktocolab.png\" align=\"left\"/> ](https://colab.research.google.com/github/taehojo/deeplearning/blob/master/colab/ch06-colab.ipynb)"
   ]
  },
  {
   "cell_type": "markdown",
   "id": "31aa0af8",
   "metadata": {},
   "source": [
    "## 5. 텐서플로에서 실행하는 로지스틱 회귀 모델"
   ]
  },
  {
   "cell_type": "markdown",
   "id": "3bd0ceed",
   "metadata": {},
   "source": [
    "### 1.환경 준비"
   ]
  },
  {
   "cell_type": "code",
   "execution_count": 8,
   "id": "38ce6ac5",
   "metadata": {},
   "outputs": [],
   "source": [
    "import numpy as np\n",
    "import matplotlib.pyplot as plt\n",
    "from tensorflow.keras.models import Sequential\n",
    "from tensorflow.keras.layers import Dense, Input"
   ]
  },
  {
   "cell_type": "markdown",
   "id": "00f9c412",
   "metadata": {},
   "source": [
    "### 2. 데이터 준비"
   ]
  },
  {
   "cell_type": "code",
   "execution_count": 2,
   "id": "92e915e0",
   "metadata": {},
   "outputs": [],
   "source": [
    "x = np.array([2, 4, 6, 8, 10, 12, 14])\n",
    "y = np.array([0, 0, 0, 1, 1, 1, 1]) "
   ]
  },
  {
   "cell_type": "markdown",
   "id": "605e6ad0",
   "metadata": {},
   "source": [
    "### 3. 모델 실행"
   ]
  },
  {
   "cell_type": "code",
   "execution_count": 11,
   "id": "f2735f67",
   "metadata": {},
   "outputs": [],
   "source": [
    "model = Sequential()\n",
    "\n",
    "model.add(Input((1,)))\n",
    "model.add(Dense(1, activation='sigmoid'))\n",
    "\n",
    "# 교차 엔트로피 오차 함수를 이용하기 위하여 'binary_crossentropy'로 설정합니다. \n",
    "model.compile(optimizer='sgd' ,loss='binary_crossentropy')\n",
    "\n",
    "history = model.fit(x, y, epochs=5000, verbose=0)"
   ]
  },
  {
   "cell_type": "code",
   "execution_count": 13,
   "id": "65fd610c",
   "metadata": {},
   "outputs": [
    {
     "name": "stdout",
     "output_type": "stream",
     "text": [
      "epoch:     0, loss: 0.589\n",
      "epoch:   100, loss: 0.524\n",
      "epoch:   200, loss: 0.501\n",
      "epoch:   300, loss: 0.480\n",
      "epoch:   400, loss: 0.460\n",
      "epoch:   500, loss: 0.442\n",
      "epoch:   600, loss: 0.426\n",
      "epoch:   700, loss: 0.410\n",
      "epoch:   800, loss: 0.396\n",
      "epoch:   900, loss: 0.383\n",
      "epoch:  1000, loss: 0.371\n",
      "epoch:  1100, loss: 0.360\n",
      "epoch:  1200, loss: 0.349\n",
      "epoch:  1300, loss: 0.340\n",
      "epoch:  1400, loss: 0.330\n",
      "epoch:  1500, loss: 0.322\n",
      "epoch:  1600, loss: 0.314\n",
      "epoch:  1700, loss: 0.306\n",
      "epoch:  1800, loss: 0.299\n",
      "epoch:  1900, loss: 0.293\n",
      "epoch:  2000, loss: 0.287\n",
      "epoch:  2100, loss: 0.281\n",
      "epoch:  2200, loss: 0.275\n",
      "epoch:  2300, loss: 0.270\n",
      "epoch:  2400, loss: 0.265\n",
      "epoch:  2500, loss: 0.260\n",
      "epoch:  2600, loss: 0.255\n",
      "epoch:  2700, loss: 0.251\n",
      "epoch:  2800, loss: 0.247\n",
      "epoch:  2900, loss: 0.243\n",
      "epoch:  3000, loss: 0.239\n",
      "epoch:  3100, loss: 0.236\n",
      "epoch:  3200, loss: 0.232\n",
      "epoch:  3300, loss: 0.229\n",
      "epoch:  3400, loss: 0.226\n",
      "epoch:  3500, loss: 0.223\n",
      "epoch:  3600, loss: 0.220\n",
      "epoch:  3700, loss: 0.217\n",
      "epoch:  3800, loss: 0.214\n",
      "epoch:  3900, loss: 0.212\n",
      "epoch:  4000, loss: 0.209\n",
      "epoch:  4100, loss: 0.207\n",
      "epoch:  4200, loss: 0.204\n",
      "epoch:  4300, loss: 0.202\n",
      "epoch:  4400, loss: 0.200\n",
      "epoch:  4500, loss: 0.198\n",
      "epoch:  4600, loss: 0.196\n",
      "epoch:  4700, loss: 0.194\n",
      "epoch:  4800, loss: 0.192\n",
      "epoch:  4900, loss: 0.190\n"
     ]
    }
   ],
   "source": [
    "for epoch, val_loss in enumerate(history.history['loss']):\n",
    "    if epoch % 100 == 0:\n",
    "        print('epoch: {:5d}, loss: {:.3f}'.format(epoch, val_loss))"
   ]
  },
  {
   "cell_type": "markdown",
   "id": "514ecfcd",
   "metadata": {},
   "source": [
    "### 4. 모델 테스트"
   ]
  },
  {
   "cell_type": "code",
   "execution_count": 4,
   "id": "669c2350",
   "metadata": {},
   "outputs": [
    {
     "name": "stdout",
     "output_type": "stream",
     "text": [
      "1/1 [==============================] - 0s 77ms/step\n"
     ]
    },
    {
     "data": {
      "image/png": "[encoded data removed]",
      "text/plain": [
       "<Figure size 640x480 with 1 Axes>"
      ]
     },
     "metadata": {},
     "output_type": "display_data"
    }
   ],
   "source": [
    "#그래프로 확인해 봅니다.\n",
    "\n",
    "plt.scatter(x, y)\n",
    "plt.plot(x, model.predict(x),'r')\n",
    "plt.show()"
   ]
  },
  {
   "cell_type": "code",
   "execution_count": 14,
   "id": "e4b6209f",
   "metadata": {},
   "outputs": [
    {
     "name": "stdout",
     "output_type": "stream",
     "text": [
      "1/1 [==============================] - 0s 45ms/step\n",
      "7시간을 공부할 경우, 합격 예상 확률은 59.7%입니다\n"
     ]
    }
   ],
   "source": [
    "#임의의 학습시간을 집어넣어 합격 예상 확률을 예측해 보겠습니다.\n",
    "\n",
    "hour = 7\n",
    "prediction = model.predict(np.array([hour]))\n",
    "\n",
    "print(\"%.f시간을 공부할 경우, 합격 예상 확률은 %.01f%%입니다\" % (hour, prediction * 100))"
   ]
  },
  {
   "cell_type": "code",
   "execution_count": null,
   "id": "bcffd088",
   "metadata": {},
   "outputs": [],
   "source": []
  }
 ],
 "metadata": {
  "kernelspec": {
   "display_name": "Python 3 (ipykernel)",
   "language": "python",
   "name": "python3"
  },
  "language_info": {
   "codemirror_mode": {
    "name": "ipython",
    "version": 3
   },
   "file_extension": ".py",
   "mimetype": "text/x-python",
   "name": "python",
   "nbconvert_exporter": "python",
   "pygments_lexer": "ipython3",
   "version": "3.10.9"
  }
 },
 "nbformat": 4,
 "nbformat_minor": 5
}
