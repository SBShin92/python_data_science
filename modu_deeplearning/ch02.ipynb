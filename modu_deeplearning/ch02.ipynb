{
 "cells": [
  {
   "cell_type": "markdown",
   "metadata": {},
   "source": [
    "# 2장. 딥러닝 핵심 미리보기"
   ]
  },
  {
   "cell_type": "markdown",
   "metadata": {},
   "source": [
    "[<img src=\"https://raw.githubusercontent.com/taehojo/taehojo.github.io/master/assets/images/linktocolab.png\" align=\"left\"/> ](https://colab.research.google.com/github/taehojo/deeplearning/blob/master/colab/ch02-colab.ipynb)"
   ]
  },
  {
   "cell_type": "markdown",
   "metadata": {},
   "source": [
    "## 나의 첫 딥러닝: '10장 폐암 수술 환자의 생존율 예측' 코드 미리보기"
   ]
  },
  {
   "cell_type": "markdown",
   "metadata": {},
   "source": [
    "### 1. 환경 준비 "
   ]
  },
  {
   "cell_type": "code",
   "execution_count": 1,
   "metadata": {},
   "outputs": [],
   "source": [
    "from tensorflow.keras.models import Sequential  # 텐서플로의 케라스 API에서 필요한 함수들을 불러옵니다.\n",
    "from tensorflow.keras.layers import Dense       # 데이터를 다루는데 필요한 라이브러리를 불러옵니다.\n",
    "import numpy as np"
   ]
  },
  {
   "cell_type": "markdown",
   "metadata": {},
   "source": [
    "### 2. 데이터 준비"
   ]
  },
  {
   "cell_type": "code",
   "execution_count": 2,
   "metadata": {},
   "outputs": [],
   "source": [
    "Data_set = np.loadtxt(\"./data/ThoraricSurgery3.csv\", delimiter=\",\") # 준비된 수술 환자 데이터를 불러옵니다.\n",
    "X = Data_set[:,0:16]                                                 # 환자의 진찰 기록을 X로 지정합니다.\n",
    "y = Data_set[:,16]                                                   # 수술 후 사망/생존 여부를 y로 지정합니다."
   ]
  },
  {
   "cell_type": "code",
   "execution_count": 3,
   "metadata": {},
   "outputs": [
    {
     "data": {
      "text/plain": [
       "array([[ 1.  ,  2.88,  2.16, ...,  1.  ,  0.  , 60.  ],\n",
       "       [ 2.  ,  3.4 ,  1.88, ...,  1.  ,  0.  , 51.  ],\n",
       "       [ 2.  ,  2.76,  2.08, ...,  1.  ,  0.  , 59.  ],\n",
       "       ...,\n",
       "       [ 2.  ,  3.04,  2.08, ...,  0.  ,  0.  , 52.  ],\n",
       "       [ 2.  ,  1.96,  1.68, ...,  1.  ,  0.  , 79.  ],\n",
       "       [ 2.  ,  4.72,  3.56, ...,  1.  ,  0.  , 51.  ]])"
      ]
     },
     "execution_count": 3,
     "metadata": {},
     "output_type": "execute_result"
    }
   ],
   "source": [
    "X"
   ]
  },
  {
   "cell_type": "code",
   "execution_count": 4,
   "metadata": {},
   "outputs": [
    {
     "data": {
      "text/plain": [
       "array([0., 0., 0., 0., 1., 0., 1., 1., 0., 0., 0., 0., 0., 1., 0., 0., 0.,\n",
       "       0., 0., 0., 0., 0., 0., 0., 1., 0., 0., 1., 0., 0., 1., 0., 0., 0.,\n",
       "       0., 0., 0., 0., 0., 0., 1., 1., 0., 1., 0., 0., 0., 1., 0., 0., 0.,\n",
       "       0., 0., 0., 0., 0., 0., 1., 0., 0., 1., 0., 0., 0., 0., 0., 0., 1.,\n",
       "       0., 0., 0., 0., 0., 0., 0., 1., 0., 1., 0., 0., 0., 0., 0., 0., 0.,\n",
       "       0., 0., 0., 0., 0., 0., 0., 1., 0., 0., 0., 1., 0., 0., 1., 0., 0.,\n",
       "       0., 0., 0., 0., 0., 0., 0., 0., 0., 0., 0., 0., 0., 1., 0., 0., 0.,\n",
       "       0., 0., 0., 0., 0., 0., 0., 0., 1., 1., 0., 0., 0., 1., 0., 0., 0.,\n",
       "       0., 1., 0., 0., 0., 0., 0., 1., 0., 0., 0., 0., 0., 0., 0., 1., 1.,\n",
       "       0., 0., 0., 0., 0., 0., 0., 0., 0., 0., 0., 0., 0., 0., 0., 0., 1.,\n",
       "       0., 0., 0., 1., 0., 1., 0., 0., 0., 0., 0., 0., 0., 0., 0., 1., 0.,\n",
       "       0., 0., 0., 0., 1., 0., 0., 0., 1., 1., 0., 0., 0., 0., 0., 0., 0.,\n",
       "       0., 0., 0., 0., 0., 1., 0., 1., 0., 1., 0., 0., 0., 0., 0., 0., 1.,\n",
       "       0., 0., 0., 0., 0., 0., 1., 0., 1., 0., 0., 0., 0., 0., 0., 0., 0.,\n",
       "       1., 1., 0., 0., 1., 0., 0., 0., 0., 0., 0., 0., 0., 1., 0., 0., 0.,\n",
       "       0., 0., 0., 0., 0., 1., 0., 0., 0., 0., 0., 0., 0., 1., 0., 1., 0.,\n",
       "       0., 0., 1., 0., 0., 0., 0., 0., 0., 0., 0., 0., 0., 0., 0., 0., 0.,\n",
       "       0., 0., 0., 0., 0., 0., 0., 1., 1., 0., 0., 0., 0., 1., 0., 0., 1.,\n",
       "       0., 0., 0., 0., 0., 0., 1., 0., 0., 0., 0., 0., 0., 0., 0., 1., 0.,\n",
       "       0., 0., 0., 0., 0., 0., 0., 0., 0., 0., 0., 1., 0., 0., 0., 0., 0.,\n",
       "       1., 0., 0., 0., 0., 0., 0., 0., 1., 0., 1., 0., 0., 0., 0., 0., 0.,\n",
       "       1., 0., 0., 0., 0., 1., 0., 0., 0., 0., 1., 0., 0., 0., 0., 0., 0.,\n",
       "       0., 0., 0., 0., 0., 0., 0., 0., 0., 0., 0., 0., 1., 0., 0., 0., 0.,\n",
       "       0., 0., 0., 0., 0., 0., 0., 0., 0., 0., 0., 0., 0., 1., 0., 0., 0.,\n",
       "       0., 0., 1., 0., 0., 0., 0., 0., 0., 0., 0., 1., 1., 1., 0., 0., 0.,\n",
       "       0., 1., 0., 0., 0., 0., 0., 0., 0., 0., 0., 0., 0., 0., 0., 0., 0.,\n",
       "       0., 0., 0., 0., 0., 0., 0., 1., 0., 0., 0., 0., 0., 0., 0., 0., 0.,\n",
       "       0., 0., 0., 0., 1., 0., 0., 0., 0., 0., 0.])"
      ]
     },
     "execution_count": 4,
     "metadata": {},
     "output_type": "execute_result"
    }
   ],
   "source": [
    "y"
   ]
  },
  {
   "cell_type": "markdown",
   "metadata": {},
   "source": [
    "### 3. 구조 결정 "
   ]
  },
  {
   "cell_type": "code",
   "execution_count": 5,
   "metadata": {},
   "outputs": [],
   "source": [
    "model = Sequential()                                                  # 딥러닝 모델의 구조를 결정합니다.\n",
    "model.add(Dense(30, input_dim=16, activation='relu'))\n",
    "model.add(Dense(1, activation='sigmoid'))"
   ]
  },
  {
   "cell_type": "code",
   "execution_count": 6,
   "metadata": {},
   "outputs": [
    {
     "data": {
      "text/plain": [
       "<keras.engine.sequential.Sequential at 0x17e6eb36980>"
      ]
     },
     "execution_count": 6,
     "metadata": {},
     "output_type": "execute_result"
    }
   ],
   "source": [
    "model"
   ]
  },
  {
   "cell_type": "markdown",
   "metadata": {},
   "source": [
    "### 4. 모델 실행 "
   ]
  },
  {
   "cell_type": "code",
   "execution_count": 7,
   "metadata": {},
   "outputs": [
    {
     "name": "stdout",
     "output_type": "stream",
     "text": [
      "Epoch 1/30\n",
      "30/30 [==============================] - 1s 4ms/step - loss: 0.4586 - accuracy: 0.8511\n",
      "Epoch 2/30\n",
      "30/30 [==============================] - 0s 3ms/step - loss: 0.4303 - accuracy: 0.8511\n",
      "Epoch 3/30\n",
      "30/30 [==============================] - 0s 3ms/step - loss: 0.4354 - accuracy: 0.8511\n",
      "Epoch 4/30\n",
      "30/30 [==============================] - 0s 4ms/step - loss: 0.4208 - accuracy: 0.8511\n",
      "Epoch 5/30\n",
      "30/30 [==============================] - 0s 3ms/step - loss: 0.4263 - accuracy: 0.8511\n",
      "Epoch 6/30\n",
      "30/30 [==============================] - 0s 4ms/step - loss: 0.4178 - accuracy: 0.8511\n",
      "Epoch 7/30\n",
      "30/30 [==============================] - 0s 3ms/step - loss: 0.4126 - accuracy: 0.8511\n",
      "Epoch 8/30\n",
      "30/30 [==============================] - 0s 3ms/step - loss: 0.4128 - accuracy: 0.8511\n",
      "Epoch 9/30\n",
      "30/30 [==============================] - 0s 3ms/step - loss: 0.4101 - accuracy: 0.8511\n",
      "Epoch 10/30\n",
      "30/30 [==============================] - 0s 3ms/step - loss: 0.4118 - accuracy: 0.8511\n",
      "Epoch 11/30\n",
      "30/30 [==============================] - 0s 3ms/step - loss: 0.4096 - accuracy: 0.8511\n",
      "Epoch 12/30\n",
      "30/30 [==============================] - 0s 3ms/step - loss: 0.4043 - accuracy: 0.8511\n",
      "Epoch 13/30\n",
      "30/30 [==============================] - 0s 3ms/step - loss: 0.4085 - accuracy: 0.8511\n",
      "Epoch 14/30\n",
      "30/30 [==============================] - 0s 3ms/step - loss: 0.4100 - accuracy: 0.8511\n",
      "Epoch 15/30\n",
      "30/30 [==============================] - 0s 4ms/step - loss: 0.4031 - accuracy: 0.8511\n",
      "Epoch 16/30\n",
      "30/30 [==============================] - 0s 5ms/step - loss: 0.4147 - accuracy: 0.8511\n",
      "Epoch 17/30\n",
      "30/30 [==============================] - 0s 4ms/step - loss: 0.4050 - accuracy: 0.8511\n",
      "Epoch 18/30\n",
      "30/30 [==============================] - 0s 3ms/step - loss: 0.4027 - accuracy: 0.8511\n",
      "Epoch 19/30\n",
      "30/30 [==============================] - 0s 4ms/step - loss: 0.4042 - accuracy: 0.8511\n",
      "Epoch 20/30\n",
      "30/30 [==============================] - 0s 5ms/step - loss: 0.3928 - accuracy: 0.8511\n",
      "Epoch 21/30\n",
      "30/30 [==============================] - 0s 3ms/step - loss: 0.3994 - accuracy: 0.8511\n",
      "Epoch 22/30\n",
      "30/30 [==============================] - 0s 3ms/step - loss: 0.3976 - accuracy: 0.8511\n",
      "Epoch 23/30\n",
      "30/30 [==============================] - 0s 4ms/step - loss: 0.3967 - accuracy: 0.8511\n",
      "Epoch 24/30\n",
      "30/30 [==============================] - 0s 3ms/step - loss: 0.4073 - accuracy: 0.8489\n",
      "Epoch 25/30\n",
      "30/30 [==============================] - 0s 3ms/step - loss: 0.4068 - accuracy: 0.8489\n",
      "Epoch 26/30\n",
      "30/30 [==============================] - 0s 3ms/step - loss: 0.3906 - accuracy: 0.8511\n",
      "Epoch 27/30\n",
      "30/30 [==============================] - 0s 3ms/step - loss: 0.3965 - accuracy: 0.8489\n",
      "Epoch 28/30\n",
      "30/30 [==============================] - 0s 4ms/step - loss: 0.3967 - accuracy: 0.8489\n",
      "Epoch 29/30\n",
      "30/30 [==============================] - 0s 3ms/step - loss: 0.3904 - accuracy: 0.8489\n",
      "Epoch 30/30\n",
      "30/30 [==============================] - 0s 3ms/step - loss: 0.3913 - accuracy: 0.8489\n"
     ]
    }
   ],
   "source": [
    "model.compile(loss='binary_crossentropy', optimizer='adam', metrics=['accuracy'])  # 딥러닝 모델을 실행합니다.\n",
    "history=model.fit(X, y, epochs=30, batch_size=16)"
   ]
  },
  {
   "cell_type": "code",
   "execution_count": 8,
   "metadata": {
    "scrolled": true
   },
   "outputs": [
    {
     "data": {
      "text/plain": [
       "{'loss': [0.4586491882801056,\n",
       "  0.43025049567222595,\n",
       "  0.43536800146102905,\n",
       "  0.42082345485687256,\n",
       "  0.42634376883506775,\n",
       "  0.4177991449832916,\n",
       "  0.4125666320323944,\n",
       "  0.4127572774887085,\n",
       "  0.41012731194496155,\n",
       "  0.4118262827396393,\n",
       "  0.4096287786960602,\n",
       "  0.404274046421051,\n",
       "  0.40847933292388916,\n",
       "  0.41000667214393616,\n",
       "  0.4030965268611908,\n",
       "  0.4147135019302368,\n",
       "  0.4049541652202606,\n",
       "  0.40266674757003784,\n",
       "  0.40424397587776184,\n",
       "  0.3928004205226898,\n",
       "  0.3994174897670746,\n",
       "  0.39762988686561584,\n",
       "  0.3966769278049469,\n",
       "  0.4073163866996765,\n",
       "  0.4067527949810028,\n",
       "  0.3906043469905853,\n",
       "  0.3965153694152832,\n",
       "  0.39668580889701843,\n",
       "  0.3904184401035309,\n",
       "  0.39134204387664795],\n",
       " 'accuracy': [0.8510638475418091,\n",
       "  0.8510638475418091,\n",
       "  0.8510638475418091,\n",
       "  0.8510638475418091,\n",
       "  0.8510638475418091,\n",
       "  0.8510638475418091,\n",
       "  0.8510638475418091,\n",
       "  0.8510638475418091,\n",
       "  0.8510638475418091,\n",
       "  0.8510638475418091,\n",
       "  0.8510638475418091,\n",
       "  0.8510638475418091,\n",
       "  0.8510638475418091,\n",
       "  0.8510638475418091,\n",
       "  0.8510638475418091,\n",
       "  0.8510638475418091,\n",
       "  0.8510638475418091,\n",
       "  0.8510638475418091,\n",
       "  0.8510638475418091,\n",
       "  0.8510638475418091,\n",
       "  0.8510638475418091,\n",
       "  0.8510638475418091,\n",
       "  0.8510638475418091,\n",
       "  0.848936140537262,\n",
       "  0.848936140537262,\n",
       "  0.8510638475418091,\n",
       "  0.848936140537262,\n",
       "  0.848936140537262,\n",
       "  0.848936140537262,\n",
       "  0.848936140537262]}"
      ]
     },
     "execution_count": 8,
     "metadata": {},
     "output_type": "execute_result"
    }
   ],
   "source": [
    "history.history"
   ]
  },
  {
   "cell_type": "code",
   "execution_count": 9,
   "metadata": {},
   "outputs": [
    {
     "data": {
      "text/plain": [
       "<matplotlib.legend.Legend at 0x17e6ec72140>"
      ]
     },
     "execution_count": 9,
     "metadata": {},
     "output_type": "execute_result"
    },
    {
     "data": {
      "image/png": "[encoded data removed]",
      "text/plain": [
       "<Figure size 640x480 with 1 Axes>"
      ]
     },
     "metadata": {},
     "output_type": "display_data"
    }
   ],
   "source": [
    "import matplotlib.pyplot as plt\n",
    "\n",
    "plt.plot(history.history[\"loss\"])\n",
    "plt.plot(history.history[\"accuracy\"])\n",
    "plt.legend([\"loss\", \"accuracy\"])"
   ]
  },
  {
   "cell_type": "code",
   "execution_count": null,
   "metadata": {},
   "outputs": [],
   "source": []
  }
 ],
 "metadata": {
  "kernelspec": {
   "display_name": "Python 3 (ipykernel)",
   "language": "python",
   "name": "python3"
  },
  "language_info": {
   "codemirror_mode": {
    "name": "ipython",
    "version": 3
   },
   "file_extension": ".py",
   "mimetype": "text/x-python",
   "name": "python",
   "nbconvert_exporter": "python",
   "pygments_lexer": "ipython3",
   "version": "3.10.9"
  }
 },
 "nbformat": 4,
 "nbformat_minor": 2
}
